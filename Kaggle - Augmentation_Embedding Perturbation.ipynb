{
 "cells": [
  {
   "cell_type": "code",
   "execution_count": null,
   "metadata": {
    "colab": {},
    "colab_type": "code",
    "id": "WrVUv0wH3v4Y"
   },
   "outputs": [],
   "source": [
    "CSV_PATH = './data/'"
   ]
  },
  {
   "cell_type": "code",
   "execution_count": null,
   "metadata": {
    "colab": {
     "base_uri": "https://localhost:8080/",
     "height": 175
    },
    "colab_type": "code",
    "executionInfo": {
     "elapsed": 4078,
     "status": "ok",
     "timestamp": 1572184558438,
     "user": {
      "displayName": "이희찬",
      "photoUrl": "",
      "userId": "06255163499262544080"
     },
     "user_tz": -540
    },
    "id": "a5Bc0HW36JwZ",
    "outputId": "730bc21f-bed0-4b98-f808-faefd7795c64"
   },
   "outputs": [],
   "source": [
    "!ls '/content/drive/My Drive/Kaggle/Quora Insincere Question/perturbation/trained'"
   ]
  },
  {
   "cell_type": "code",
   "execution_count": null,
   "metadata": {
    "colab": {},
    "colab_type": "code",
    "id": "1_KiK1Rx3v9F"
   },
   "outputs": [],
   "source": [
    "import tensorflow as tf"
   ]
  },
  {
   "cell_type": "code",
   "execution_count": null,
   "metadata": {
    "colab": {},
    "colab_type": "code",
    "id": "jsTr1OOo3v_m"
   },
   "outputs": [],
   "source": [
    "from tensorflow.keras.preprocessing.text import Tokenizer\n",
    "from tensorflow.keras.preprocessing.sequence import pad_sequences\n",
    "from tensorflow.keras.layers import Dense, Input, LSTM, Embedding, Activation, GRU\n",
    "from tensorflow.keras.layers import Bidirectional, GlobalMaxPool1D, GlobalAveragePooling1D, GlobalMaxPooling1D, SpatialDropout1D\n",
    "from tensorflow.keras.optimizers import Adam\n",
    "from tensorflow.keras.models import Model\n",
    "from tensorflow.keras.layers import Layer\n",
    "from tensorflow.keras import activations"
   ]
  },
  {
   "cell_type": "code",
   "execution_count": null,
   "metadata": {
    "colab": {},
    "colab_type": "code",
    "id": "ofEQ4hna3wGx"
   },
   "outputs": [],
   "source": [
    "from tqdm import tqdm\n",
    "import os\n",
    "import numpy as np\n",
    "import pandas as pd\n",
    "from sklearn.model_selection import train_test_split, StratifiedShuffleSplit, StratifiedKFold"
   ]
  },
  {
   "cell_type": "code",
   "execution_count": null,
   "metadata": {
    "colab": {
     "base_uri": "https://localhost:8080/",
     "height": 386
    },
    "colab_type": "code",
    "executionInfo": {
     "elapsed": 6099,
     "status": "error",
     "timestamp": 1572184536991,
     "user": {
      "displayName": "이희찬",
      "photoUrl": "",
      "userId": "06255163499262544080"
     },
     "user_tz": -540
    },
    "id": "hQI9ifIY3wNx",
    "outputId": "a9002ed6-23fa-47c2-abf4-5f8a78689b1c"
   },
   "outputs": [],
   "source": [
    "#This code snippet is inspired by https://github.com/chakki-works/chakin\n",
    "from six.moves.urllib.request import urlretrieve\n",
    "from progressbar import Bar, ETA, FileTransferSpeed, ProgressBar, Percentage, RotatingMarker\n",
    "\n",
    "ROOT_DIR = './'\n",
    "url = 'http://nlp.stanford.edu/data/glove.840B.300d.zip'\n",
    "file_name = url.split('/')[-1]\n",
    "save_path = os.path.join(ROOT_DIR, file_name)\n",
    "\n",
    "widgets = ['Test: ', Percentage(), ' ', Bar(marker=RotatingMarker()), ' ', ETA(), ' ', FileTransferSpeed()]\n",
    "pbar = ProgressBar(widgets=widgets)\n",
    "\n",
    "def dlProgress(count, blockSize, totalSize):\n",
    "    if pbar.max_value is None:\n",
    "        pbar.max_value = totalSize\n",
    "        pbar.start()\n",
    "\n",
    "    pbar.update(min(count * blockSize, totalSize))\n",
    "\n",
    "path, _ = urlretrieve(url, save_path, reporthook=dlProgress)\n",
    "pbar.finish()"
   ]
  },
  {
   "cell_type": "code",
   "execution_count": null,
   "metadata": {
    "colab": {
     "base_uri": "https://localhost:8080/",
     "height": 52
    },
    "colab_type": "code",
    "executionInfo": {
     "elapsed": 1078296,
     "status": "ok",
     "timestamp": 1572175862190,
     "user": {
      "displayName": "이희찬",
      "photoUrl": "",
      "userId": "06255163499262544080"
     },
     "user_tz": -540
    },
    "id": "4O2pMe3y3wRt",
    "outputId": "47e02718-a4a2-4d29-cec9-504fd0681e60"
   },
   "outputs": [],
   "source": [
    "!unzip ./glove.840B.300d.zip"
   ]
  },
  {
   "cell_type": "code",
   "execution_count": null,
   "metadata": {
    "colab": {},
    "colab_type": "code",
    "id": "6tmJp6HH3wL_"
   },
   "outputs": [],
   "source": [
    "def load_glove_simple(word_dict):#word_index {'word': index} dictionary\n",
    "    EMBEDDING_FILE = './glove.840B.300d.txt'\n",
    "    def get_coefs(word,*arr): return word, np.asarray(arr, dtype='float32')\n",
    "    embeddings_index = dict(get_coefs(*o.split(\" \")) for o in open(EMBEDDING_FILE))\n",
    "\n",
    "    all_embs = np.stack(embeddings_index.values())\n",
    "    emb_mean,emb_std = all_embs.mean(), all_embs.std()\n",
    "    embed_size = all_embs.shape[1]\n",
    "    word_index = word_dict\n",
    "    nb_words = len(word_index)+1\n",
    "    \n",
    "\n",
    "    embedding_matrix = np.zeros((nb_words, embed_size),dtype=np.float32) - 1.\n",
    "    \n",
    "    for key, i in tqdm(word_index.items()):\n",
    "        word = key\n",
    "        embedding_vector = embeddings_index.get(word)        \n",
    "        if embedding_vector is not None:\n",
    "            embedding_matrix[i] = embedding_vector\n",
    "            continue\n",
    "        word = key.lower()\n",
    "        embedding_vector = embeddings_index.get(word)\n",
    "        if embedding_vector is not None:\n",
    "            embedding_matrix[i] = embedding_vector\n",
    "            continue\n",
    "        word = key.upper()\n",
    "        embedding_vector = embeddings_index.get(word)\n",
    "        if embedding_vector is not None:\n",
    "            embedding_matrix[i] = embedding_vector\n",
    "            continue\n",
    "        word = key.capitalize()\n",
    "        embedding_vector = embeddings_index.get(word)\n",
    "        if embedding_vector is not None:\n",
    "            embedding_matrix[i] = embedding_vector\n",
    "            continue\n",
    "            \n",
    "    del embeddings_index\n",
    "    import gc\n",
    "    gc.collect()\n",
    "    return embedding_matrix, nb_words"
   ]
  },
  {
   "cell_type": "code",
   "execution_count": null,
   "metadata": {
    "colab": {
     "base_uri": "https://localhost:8080/",
     "height": 52
    },
    "colab_type": "code",
    "executionInfo": {
     "elapsed": 5354,
     "status": "ok",
     "timestamp": 1572184575444,
     "user": {
      "displayName": "이희찬",
      "photoUrl": "",
      "userId": "06255163499262544080"
     },
     "user_tz": -540
    },
    "id": "ohVKujFT3wKS",
    "outputId": "89b6deb8-5c7f-4a98-850a-45fa8fabe880"
   },
   "outputs": [],
   "source": [
    "train_df = pd.read_csv(os.path.join(CSV_PATH, 'train.csv'))\n",
    "test_df = pd.read_csv(os.path.join(CSV_PATH, 'test.csv'))\n",
    "print(\"Train shape : \",train_df.shape)\n",
    "print(\"Test shape : \",test_df.shape)"
   ]
  },
  {
   "cell_type": "code",
   "execution_count": null,
   "metadata": {
    "colab": {},
    "colab_type": "code",
    "id": "CYHvJwru3wFH"
   },
   "outputs": [],
   "source": [
    "train_X = train_df[\"question_text\"].fillna(\" \")\n",
    "test_X = test_df[\"question_text\"].fillna(\" \")\n",
    "text_list = pd.concat([train_X,test_X]).apply(lambda x: x.split())"
   ]
  },
  {
   "cell_type": "code",
   "execution_count": null,
   "metadata": {
    "colab": {},
    "colab_type": "code",
    "id": "LG9igIV-3wDK"
   },
   "outputs": [],
   "source": [
    "train_df, val_df = train_test_split(train_df, test_size=0.08, stratify=train_df['target'] ,random_state=2018)\n",
    "max_features = 95000\n",
    "max_len = 100\n",
    "\n",
    "\n",
    "#train_X = np.array(train_df.pop('question_text')) --> This might help to save memory\n",
    "train_X = train_df['question_text'].fillna(\" \")\n",
    "val_X = val_df['question_text'].fillna(\" \")\n",
    "test_X = test_df['question_text'].fillna(\" \")\n",
    "\n",
    "train_y = train_df['target'].values\n",
    "val_y = val_df['target'].values\n",
    "\n",
    "bool_train_labels = train_y != 0\n",
    "\n",
    "## Tokenize the sentences\n",
    "tokenizer = Tokenizer(num_words=max_features)\n",
    "tokenizer.fit_on_texts(list(text_list))\n",
    "train_X = tokenizer.texts_to_sequences(train_X)\n",
    "val_X = tokenizer.texts_to_sequences(val_X)\n",
    "test_X = tokenizer.texts_to_sequences(test_X)\n",
    "\n"
   ]
  },
  {
   "cell_type": "code",
   "execution_count": null,
   "metadata": {
    "colab": {
     "base_uri": "https://localhost:8080/",
     "height": 90
    },
    "colab_type": "code",
    "executionInfo": {
     "elapsed": 267156,
     "status": "ok",
     "timestamp": 1572184838700,
     "user": {
      "displayName": "이희찬",
      "photoUrl": "",
      "userId": "06255163499262544080"
     },
     "user_tz": -540
    },
    "id": "JW-ZRTar4-PI",
    "outputId": "44de53f1-fcc3-43b9-ab05-37dcfb903192"
   },
   "outputs": [],
   "source": [
    "glove, n_words = load_glove_simple(tokenizer.word_index)"
   ]
  },
  {
   "cell_type": "code",
   "execution_count": null,
   "metadata": {
    "colab": {
     "base_uri": "https://localhost:8080/",
     "height": 34
    },
    "colab_type": "code",
    "executionInfo": {
     "elapsed": 265600,
     "status": "ok",
     "timestamp": 1572184839576,
     "user": {
      "displayName": "이희찬",
      "photoUrl": "",
      "userId": "06255163499262544080"
     },
     "user_tz": -540
    },
    "id": "Luli4zNUJGNh",
    "outputId": "da6ff2ee-699f-4391-a5b3-864ff9f9a4e2"
   },
   "outputs": [],
   "source": [
    "glove.shape"
   ]
  },
  {
   "cell_type": "code",
   "execution_count": null,
   "metadata": {
    "colab": {},
    "colab_type": "code",
    "id": "xYXBnF773v7K"
   },
   "outputs": [],
   "source": [
    "train_X_pad = pad_sequences(train_X, maxlen=100,padding='post')\n",
    "val_X_pad = pad_sequences(val_X, maxlen=100, padding='post')"
   ]
  },
  {
   "cell_type": "code",
   "execution_count": null,
   "metadata": {
    "colab": {
     "base_uri": "https://localhost:8080/",
     "height": 87
    },
    "colab_type": "code",
    "executionInfo": {
     "elapsed": 270057,
     "status": "ok",
     "timestamp": 1572184845638,
     "user": {
      "displayName": "이희찬",
      "photoUrl": "",
      "userId": "06255163499262544080"
     },
     "user_tz": -540
    },
    "id": "8-ezTojT4ego",
    "outputId": "2e4cd98b-3aa5-4c32-e62e-4c8b3c709194"
   },
   "outputs": [],
   "source": [
    "#6.19%\n",
    "neg, pos = np.bincount(train_df['target'])\n",
    "total = neg + pos\n",
    "print('Examples:\\n    Total: {}\\n    Positive: {} ({:.2f}% of total)\\n'.format(\n",
    "    total, pos, 100 * pos / total))"
   ]
  },
  {
   "cell_type": "code",
   "execution_count": null,
   "metadata": {
    "colab": {
     "base_uri": "https://localhost:8080/",
     "height": 351
    },
    "colab_type": "code",
    "executionInfo": {
     "elapsed": 1531,
     "status": "ok",
     "timestamp": 1572185916004,
     "user": {
      "displayName": "이희찬",
      "photoUrl": "",
      "userId": "06255163499262544080"
     },
     "user_tz": -540
    },
    "id": "Gp9NI_cplK7O",
    "outputId": "af0b93e2-618b-46f4-f642-fdc8792579b9"
   },
   "outputs": [],
   "source": [
    "dataset_v1 = tf.data.Dataset.from_tensor_slices((train_X_pad, train_y))\n",
    "for x,y in dataset_v1.take(2):\n",
    "    print(x)"
   ]
  },
  {
   "cell_type": "code",
   "execution_count": null,
   "metadata": {
    "colab": {},
    "colab_type": "code",
    "id": "iEgJKENr4esV"
   },
   "outputs": [],
   "source": [
    "dataset_v1 = tf.data.Dataset.from_tensor_slices((train_X_pad, train_y)).shuffle(10000).batch(512)"
   ]
  },
  {
   "cell_type": "code",
   "execution_count": null,
   "metadata": {
    "colab": {},
    "colab_type": "code",
    "id": "vW2G4KzvxE1a"
   },
   "outputs": [],
   "source": [
    "dataset_val_v1 = tf.data.Dataset.from_tensor_slices((val_X_pad, val_y)).shuffle(10000).batch(512)"
   ]
  },
  {
   "cell_type": "code",
   "execution_count": null,
   "metadata": {
    "colab": {},
    "colab_type": "code",
    "id": "GNkwlnprjVl3"
   },
   "outputs": [],
   "source": [
    "embedding_input = tf.keras.Input(shape=(None,))\n",
    "embedding_output = Embedding(*glove.shape, embeddings_initializer=tf.keras.initializers.Constant(glove), trainable=False)(embedding_input)\n",
    "embedding = tf.keras.Model(embedding_input, embedding_output)"
   ]
  },
  {
   "cell_type": "code",
   "execution_count": null,
   "metadata": {
    "colab": {
     "base_uri": "https://localhost:8080/",
     "height": 34
    },
    "colab_type": "code",
    "executionInfo": {
     "elapsed": 877,
     "status": "ok",
     "timestamp": 1572185969904,
     "user": {
      "displayName": "이희찬",
      "photoUrl": "",
      "userId": "06255163499262544080"
     },
     "user_tz": -540
    },
    "id": "P0KO_FvCk0PL",
    "outputId": "080c1352-ae65-4f02-eb5c-fee366feeafe"
   },
   "outputs": [],
   "source": [
    "np.array(train_X[0]).shape"
   ]
  },
  {
   "cell_type": "code",
   "execution_count": null,
   "metadata": {
    "colab": {},
    "colab_type": "code",
    "id": "DCXQ2QeqnVJz"
   },
   "outputs": [],
   "source": [
    "#@tf.function\n",
    "def gradient_perturbation(inputs, targets, trained_model):\n",
    "  \n",
    "    with tf.GradientTape() as tape:\n",
    "        logits, emb_out = trained_model(inputs, perturb=True)\n",
    "        bce = tf.keras.losses.BinaryCrossentropy(name='loss_pre_trained')\n",
    "        loss = bce(targets, logits)\n",
    "    \n",
    "    grads = tape.gradient(loss, emb_out)\n",
    "    normalized_grads = tf.math.truediv(grads,tf.expand_dims(tf.math.sqrt(tf.math.reduce_sum(tf.math.square(grads) + 1e-7, axis=2)), axis=-1))\n",
    "    return normalized_grads + emb_out "
   ]
  },
  {
   "cell_type": "code",
   "execution_count": null,
   "metadata": {
    "colab": {},
    "colab_type": "code",
    "id": "gRkqlyDOi_ln"
   },
   "outputs": [],
   "source": [
    "def data_generator_v1():\n",
    "    stop = len(train_X)\n",
    "    i = 0\n",
    "    while i < stop:\n",
    "        yield embedding(np.array(train_X[i])), np.array(train_y[i])\n",
    "        i += 1\n",
    "    \n",
    "dataset_v1 = tf.data.Dataset.from_generator(data_generator_v1, output_types=(tf.float32,tf.int32), output_shapes=((None, 300), ()))\n",
    "padded_dataset_v1 = dataset_v1.padded_batch(16, padded_shapes=((None,300), ()))"
   ]
  },
  {
   "cell_type": "code",
   "execution_count": null,
   "metadata": {
    "colab": {},
    "colab_type": "code",
    "id": "fK05_hGok74J"
   },
   "outputs": [],
   "source": [
    "import random"
   ]
  },
  {
   "cell_type": "code",
   "execution_count": null,
   "metadata": {
    "colab": {},
    "colab_type": "code",
    "id": "UGmyGzQcjL0G"
   },
   "outputs": [],
   "source": [
    "def data_generator_v2():\n",
    "    stop = len(train_X)\n",
    "    i = 0\n",
    "    while i < stop:\n",
    "    \n",
    "        if train_y[i] == 1 and random.random() < 0.3:\n",
    "            x, y = np.expand_dims(train_X[i], 0), np.expand_dims(train_y[i], 0)\n",
    "            perturbation = gradient_perturbation(x,y,trained_model)\n",
    "            yield np.squeeze(perturbation), train_y[i]\n",
    "            i += 1\n",
    "      \n",
    "        else:\n",
    "            yield embedding(np.array(train_X[i])), np.array(train_y[i])\n",
    "            i += 1\n",
    "    \n",
    "dataset_v2 = tf.data.Dataset.from_generator(data_generator_v2, output_types=(tf.float32,tf.int32), output_shapes=((None, 300), ()))\n",
    "padded_dataset_v2 = dataset_v2.padded_batch(16, padded_shapes=((None,300), ()))"
   ]
  },
  {
   "cell_type": "code",
   "execution_count": null,
   "metadata": {
    "colab": {},
    "colab_type": "code",
    "id": "9BoaWCYn4e7Z"
   },
   "outputs": [],
   "source": [
    "class QIQModel(tf.keras.Model):\n",
    "    def __init__(self, embedding_matrix, *args, init_out_bias=None, dropout=0.1, **kargs):\n",
    "        super(QIQModel, self).__init__(*args, **kargs)\n",
    "\n",
    "        self.embedding_matrix = embedding_matrix\n",
    "        self.emb_shape = embedding_matrix.shape\n",
    "        self.embedding = Embedding(*self.emb_shape, embeddings_initializer=tf.keras.initializers.Constant(self.embedding_matrix), trainable=False)\n",
    "        self.LSTM = LSTM(64, return_sequences=True)\n",
    "        self.Gmaxpool = GlobalMaxPool1D()\n",
    "        self.linear1 = Dense(16)\n",
    "        if init_out_bias:\n",
    "            self.linear2 = Dense(1, bias_initializer=init_out_bias)\n",
    "        else:\n",
    "            self.linear2 = Dense(1)\n",
    "    \n",
    "    \n",
    "    def call(self, inputs, perturb=False):\n",
    "        emb_out = self.embedding(inputs)\n",
    "        x = self.LSTM(emb_out)\n",
    "        x = self.Gmaxpool(x)\n",
    "        x = self.linear1(x)\n",
    "        x = self.linear2(x)\n",
    "    \n",
    "        if perturb:\n",
    "            return activations.sigmoid(x), emb_out\n",
    "        return activations.sigmoid(x)\n",
    "  \n",
    "    def compute_output_shape(self, input_shape):\n",
    "        return tf.TensorShape((None, 1))"
   ]
  },
  {
   "cell_type": "code",
   "execution_count": null,
   "metadata": {
    "colab": {
     "base_uri": "https://localhost:8080/",
     "height": 175
    },
    "colab_type": "code",
    "executionInfo": {
     "elapsed": 226791,
     "status": "ok",
     "timestamp": 1572184852158,
     "user": {
      "displayName": "이희찬",
      "photoUrl": "",
      "userId": "06255163499262544080"
     },
     "user_tz": -540
    },
    "id": "BSC7uq4JHQrm",
    "outputId": "1d97e100-c073-4902-adfc-2a2478f7d2c6"
   },
   "outputs": [],
   "source": [
    "!ls './perturbation/trained'"
   ]
  },
  {
   "cell_type": "code",
   "execution_count": null,
   "metadata": {
    "colab": {
     "base_uri": "https://localhost:8080/",
     "height": 34
    },
    "colab_type": "code",
    "executionInfo": {
     "elapsed": 2427,
     "status": "ok",
     "timestamp": 1572180342111,
     "user": {
      "displayName": "이희찬",
      "photoUrl": "",
      "userId": "06255163499262544080"
     },
     "user_tz": -540
    },
    "id": "YyiUG1xzPshj",
    "outputId": "9fc0bf28-3467-434b-a4e9-4b176e230ff5"
   },
   "outputs": [],
   "source": [
    "#if you wanna load any state of optimizer and of metrics, follow the code below\n",
    "trained_model_2 = QIQModel(glove)\n",
    "# This initializes the variables used by the optimizers,\n",
    "# as well as any stateful metric variables\n",
    "trained_model_2.compile(optimizer=tf.optimizers.Adam(learning_rate=0.01, beta_1=0.99, epsilon=1e-1), loss='binary_crossentropy')\n",
    "trained_model_2.train_on_batch(*next(iter(dataset_v1)))\n",
    "trained_model_2.load_weights('./perturbation/trained/model_1.ckpt')"
   ]
  },
  {
   "cell_type": "code",
   "execution_count": null,
   "metadata": {
    "colab": {
     "base_uri": "https://localhost:8080/",
     "height": 34
    },
    "colab_type": "code",
    "executionInfo": {
     "elapsed": 216237,
     "status": "ok",
     "timestamp": 1572184852161,
     "user": {
      "displayName": "이희찬",
      "photoUrl": "",
      "userId": "06255163499262544080"
     },
     "user_tz": -540
    },
    "id": "LyIvXwXbIiav",
    "outputId": "2dc1519d-8a42-4bf1-e49c-bc81d1ca2f2b"
   },
   "outputs": [],
   "source": [
    "#if you just want to load model weights, \n",
    "trained_model = QIQModel(glove)\n",
    "trained_model.load_weights('./perturbation/trained/model_1.ckpt')"
   ]
  },
  {
   "cell_type": "code",
   "execution_count": null,
   "metadata": {
    "colab": {},
    "colab_type": "code",
    "id": "UtCeFGaqIxUn"
   },
   "outputs": [],
   "source": [
    "trained_model.trainable = False"
   ]
  },
  {
   "cell_type": "code",
   "execution_count": null,
   "metadata": {
    "colab": {},
    "colab_type": "code",
    "id": "XeckCyf9v7E8"
   },
   "outputs": [],
   "source": [
    "callbacks = [ tf.keras.callbacks.ModelCheckpoint(filepath='./perturbation/trained/model_{epoch}.ckpt', mode='min', monitor='val_loss')]"
   ]
  },
  {
   "cell_type": "code",
   "execution_count": null,
   "metadata": {
    "colab": {
     "base_uri": "https://localhost:8080/",
     "height": 52
    },
    "colab_type": "code",
    "executionInfo": {
     "elapsed": 736481,
     "status": "ok",
     "timestamp": 1572163215930,
     "user": {
      "displayName": "이희찬",
      "photoUrl": "",
      "userId": "06255163499262544080"
     },
     "user_tz": -540
    },
    "id": "WI0yJo4MJs7Q",
    "outputId": "08c6f1a3-8230-4785-bca5-78d466c0f1f3"
   },
   "outputs": [],
   "source": [
    "trained_model = QIQModel(glove)\n",
    "#load weights\n",
    "\n",
    "trained_model.compile(optimizer=tf.optimizers.Adam(learning_rate=0.01, beta_1=0.99, epsilon=1e-1), loss='binary_crossentropy')\n",
    "trained_model.fit(dataset_v1, epochs=1, validation_data=dataset_val_v1, callbacks=callbacks)"
   ]
  },
  {
   "cell_type": "code",
   "execution_count": null,
   "metadata": {
    "colab": {},
    "colab_type": "code",
    "id": "XA_3QaoK4ewB"
   },
   "outputs": [],
   "source": [
    "class QIQModel_v2(tf.keras.Model):\n",
    "    def __init__(self, *args, init_out_bias=None, dropout=0.1, **kargs):\n",
    "        super(QIQModel_v2, self).__init__(*args, **kargs)\n",
    "    \n",
    "        self.LSTM = LSTM(64, return_sequences=True)\n",
    "        self.Gmaxpool = GlobalMaxPool1D()\n",
    "        self.linear1 = Dense(16)\n",
    "        if init_out_bias:\n",
    "            self.linear2 = Dense(1, bias_initializer=init_out_bias)\n",
    "        else:\n",
    "            self.linear2 = Dense(1)\n",
    "    \n",
    "    \n",
    "    def call(self, emb_out):\n",
    "        x = self.LSTM(emb_out)\n",
    "        x = self.Gmaxpool(x)\n",
    "        x = self.linear1(x)\n",
    "        x = self.linear2(x)\n",
    "        return activations.sigmoid(x)\n",
    "  \n",
    "    def compute_output_shape(self, input_shape):\n",
    "        return tf.TensorShape((None, 1))"
   ]
  },
  {
   "cell_type": "code",
   "execution_count": null,
   "metadata": {
    "colab": {
     "base_uri": "https://localhost:8080/",
     "height": 334
    },
    "colab_type": "code",
    "executionInfo": {
     "elapsed": 54498,
     "status": "error",
     "timestamp": 1572186605901,
     "user": {
      "displayName": "이희찬",
      "photoUrl": "",
      "userId": "06255163499262544080"
     },
     "user_tz": -540
    },
    "id": "Q2B01WK6nu10",
    "outputId": "509916cc-1b95-4e4b-c141-3cda2c81b873"
   },
   "outputs": [],
   "source": [
    "model.fit(padded_dataset_v2, epochs=1)"
   ]
  },
  {
   "cell_type": "code",
   "execution_count": null,
   "metadata": {
    "colab": {},
    "colab_type": "code",
    "id": "bkHeQF7o9qhs"
   },
   "outputs": [],
   "source": [
    "model = QIQModel_v2()"
   ]
  },
  {
   "cell_type": "code",
   "execution_count": null,
   "metadata": {
    "colab": {
     "base_uri": "https://localhost:8080/",
     "height": 351
    },
    "colab_type": "code",
    "executionInfo": {
     "elapsed": 29697,
     "status": "error",
     "timestamp": 1572186542348,
     "user": {
      "displayName": "이희찬",
      "photoUrl": "",
      "userId": "06255163499262544080"
     },
     "user_tz": -540
    },
    "id": "KdaNnyoiKQ2t",
    "outputId": "4c46123f-0c04-4569-e055-f44d408b2afa"
   },
   "outputs": [],
   "source": [
    "model.compile(optimizer=tf.optimizers.Adam(learning_rate=0.01, beta_1=0.99, epsilon=1e-1), loss='binary_crossentropy')\n",
    "model.fit(padded_dataset_v2, epochs=1)"
   ]
  },
  {
   "cell_type": "markdown",
   "metadata": {
    "colab_type": "text",
    "id": "BLiUz9oDgjkE"
   },
   "source": []
  },
  {
   "cell_type": "code",
   "execution_count": null,
   "metadata": {
    "colab": {},
    "colab_type": "code",
    "id": "KNa5GHPYU_dU"
   },
   "outputs": [],
   "source": [
    "model = QIQModel_v2()\n",
    "optimizer = tf.optimizers.RMSprop(learning_rate=0.001)"
   ]
  },
  {
   "cell_type": "code",
   "execution_count": null,
   "metadata": {
    "colab": {},
    "colab_type": "code",
    "id": "WWdi360j-Z2S"
   },
   "outputs": [],
   "source": [
    "#@tf.function\n",
    "def train_step(inputs, targets):\n",
    "  \n",
    "    with tf.GradientTape() as tape:\n",
    "        logits_ = model(inputs)\n",
    "        #loss = tf.reduce_mean(tf.nn.sigmoid_cross_entropy_with_logits(labels=targets, logits=logits_))\n",
    "        bce = tf.keras.losses.BinaryCrossentropy(name='loss_with_perturb')\n",
    "        loss = bce(targets, logits_)\n",
    "        #print(loss)\n",
    "    \n",
    "    grads = tape.gradient(loss, model.trainable_variables)\n",
    "    optimizer.apply_gradients(zip(grads, model.trainable_variables))\n",
    "  \n",
    "    return loss"
   ]
  },
  {
   "cell_type": "code",
   "execution_count": null,
   "metadata": {
    "colab": {},
    "colab_type": "code",
    "id": "KvkRvjSWaFNE"
   },
   "outputs": [],
   "source": [
    "@tf.function\n",
    "def train_step(model, example, optimizer):\n",
    "    inputs, targets = example\n",
    "    with tf.GradientTape() as tape:\n",
    "        logits_ = model(inputs)\n",
    "        #loss = tf.reduce_mean(tf.nn.sigmoid_cross_entropy_with_logits(labels=targets, logits=logits_))\n",
    "        bce = tf.keras.losses.BinaryCrossentropy(name='loss_with_perturb')\n",
    "        loss = bce(targets, logits_)\n",
    "        #print(loss)\n",
    "    \n",
    "    grads = tape.gradient(loss, model.trainable_variables)\n",
    "    optimizer.apply_gradients(zip(grads, model.trainable_variables))\n",
    "\n",
    "    return loss"
   ]
  },
  {
   "cell_type": "code",
   "execution_count": null,
   "metadata": {
    "colab": {},
    "colab_type": "code",
    "id": "agj_FFLwwc0N"
   },
   "outputs": [],
   "source": [
    "ckpt = tf.train.Checkpoint(step=tf.Variable(1), net=model, optimizer=optimizer)\n",
    "checkpoint_path = './checkpoint/quora2'\n",
    "ckpt_manager = tf.train.CheckpointManager(ckpt, checkpoint_path, max_to_keep=5)\n",
    "\n",
    "# if a checkpoint exists, restore the latest checkpoint.\n",
    "if ckpt_manager.latest_checkpoint:\n",
    "    ckpt.restore(ckpt_manager.latest_checkpoint)\n",
    "    print ('Latest checkpoint restored!!')"
   ]
  },
  {
   "cell_type": "code",
   "execution_count": null,
   "metadata": {
    "colab": {},
    "colab_type": "code",
    "id": "Dpgr5Js1ZBdG"
   },
   "outputs": [],
   "source": [
    "def train_and_checkpoint(net, manager, epochs=1):\n",
    "    ckpt.restore(manager.latest_checkpoint)\n",
    "    if manager.latest_checkpoint:\n",
    "        print(\"Restored from {}\".format(manager.latest_checkpoint))\n",
    "    else:\n",
    "        print(\"Initializing from scratch.\")\n",
    "    \n",
    "    print(ckpt.step)\n",
    "    for epoch in range(epochs):\n",
    "        for example in padded_dataset_v1:\n",
    "            loss = train_step(net, example, optimizer)\n",
    "            ckpt.step.assign_add(1)\n",
    "            if int(ckpt.step) % 30 == 0:\n",
    "                save_path = manager.save()\n",
    "                print(\"Saved checkpoint for step {}: {}\".format(int(ckpt.step), save_path))\n",
    "                print(\"loss {:1.2f}\".format(loss.numpy()))"
   ]
  },
  {
   "cell_type": "code",
   "execution_count": null,
   "metadata": {
    "colab": {
     "base_uri": "https://localhost:8080/",
     "height": 1000
    },
    "colab_type": "code",
    "executionInfo": {
     "elapsed": 31764,
     "status": "error",
     "timestamp": 1572185535769,
     "user": {
      "displayName": "이희찬",
      "photoUrl": "",
      "userId": "06255163499262544080"
     },
     "user_tz": -540
    },
    "id": "Dxde4ybobF4b",
    "outputId": "e4d94d29-a730-48bb-8771-ee489a498406"
   },
   "outputs": [],
   "source": [
    "train_and_checkpoint(model, ckpt_manager)"
   ]
  },
  {
   "cell_type": "code",
   "execution_count": null,
   "metadata": {
    "colab": {},
    "colab_type": "code",
    "id": "gK3qbfMBbx3f"
   },
   "outputs": [],
   "source": [
    "model_2 = QIQModel_v2()\n",
    "optimizer_2 = tf.optimizers.RMSprop(learning_rate=0.001)"
   ]
  },
  {
   "cell_type": "code",
   "execution_count": null,
   "metadata": {
    "colab": {},
    "colab_type": "code",
    "id": "j0dS1bW4b-Lh"
   },
   "outputs": [],
   "source": [
    "ckpt = tf.train.Checkpoint(step=tf.Variable(1), optimizer=optimizer_2, net=model_2)\n",
    "manager = tf.train.CheckpointManager(ckpt, './checkpoint/quora', max_to_keep=5)"
   ]
  },
  {
   "cell_type": "code",
   "execution_count": null,
   "metadata": {
    "colab": {
     "base_uri": "https://localhost:8080/",
     "height": 1000
    },
    "colab_type": "code",
    "executionInfo": {
     "elapsed": 7875,
     "status": "error",
     "timestamp": 1572184104664,
     "user": {
      "displayName": "이희찬",
      "photoUrl": "",
      "userId": "06255163499262544080"
     },
     "user_tz": -540
    },
    "id": "u9mH1caeb-IB",
    "outputId": "dcd54a13-2e87-4821-a285-57ee9abcb4ef"
   },
   "outputs": [],
   "source": [
    "train_and_checkpoint(model_2, manager)"
   ]
  },
  {
   "cell_type": "code",
   "execution_count": null,
   "metadata": {
    "colab": {
     "base_uri": "https://localhost:8080/",
     "height": 1000
    },
    "colab_type": "code",
    "executionInfo": {
     "elapsed": 13150,
     "status": "error",
     "timestamp": 1572165486593,
     "user": {
      "displayName": "이희찬",
      "photoUrl": "",
      "userId": "06255163499262544080"
     },
     "user_tz": -540
    },
    "id": "VOZOv1GP4eqb",
    "outputId": "69d14968-1b55-4c79-b7d8-f5211d5a120d"
   },
   "outputs": [],
   "source": [
    "import random\n",
    "EPOCHS = 1\n",
    "BATCH_SIZE = 16\n",
    "loss_trace = []\n",
    "import time\n",
    "for epoch in range(EPOCHS):\n",
    "  \n",
    "    total_loss = 0.0\n",
    "    i=0\n",
    "    epoch_start = time.time()\n",
    "    for x,y in padded_dataset_v2:\n",
    "\n",
    "        loss = train_step(x,y)\n",
    "    \n",
    "        total_loss += loss\n",
    "        i += 1\n",
    "    \n",
    "        \n",
    "    epoch_elapsed = time.time() - epoch_start\n",
    "    print(\"epoch {} : elapsed: {}\".format(epoch,epoch_elapsed))\n",
    "    print(\"epoch {} : loss: {}\".format(epoch,total_loss))\n",
    "  \n",
    "    if (epoch + 1) % 5 == 0:\n",
    "        ckpt_save_path = ckpt_manager.save()\n",
    "        print ('Saving checkpoint for epoch {} at {}'.format(epoch+1,\n",
    "                                                         ckpt_save_path))\n",
    "  \n",
    "    loss_trace.append(total_loss)"
   ]
  }
 ],
 "metadata": {
  "accelerator": "GPU",
  "colab": {
   "collapsed_sections": [],
   "name": "Kaggle - Augmentation:Embedding Perturbation.ipynb",
   "provenance": []
  },
  "kernelspec": {
   "display_name": "Python 3",
   "language": "python",
   "name": "python3"
  },
  "language_info": {
   "codemirror_mode": {
    "name": "ipython",
    "version": 3
   },
   "file_extension": ".py",
   "mimetype": "text/x-python",
   "name": "python",
   "nbconvert_exporter": "python",
   "pygments_lexer": "ipython3",
   "version": "3.6.5"
  }
 },
 "nbformat": 4,
 "nbformat_minor": 1
}
