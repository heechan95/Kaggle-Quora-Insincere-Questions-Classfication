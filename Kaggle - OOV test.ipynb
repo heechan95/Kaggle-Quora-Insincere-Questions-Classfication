{
 "cells": [
  {
   "cell_type": "code",
   "execution_count": 0,
   "metadata": {
    "colab": {},
    "colab_type": "code",
    "id": "DgTq70ChxySf"
   },
   "outputs": [],
   "source": [
    "CSV_PATH = './data/'"
   ]
  },
  {
   "cell_type": "code",
   "execution_count": 3,
   "metadata": {
    "colab": {
     "base_uri": "https://localhost:8080/",
     "height": 34
    },
    "colab_type": "code",
    "executionInfo": {
     "elapsed": 7175,
     "status": "ok",
     "timestamp": 1571988605368,
     "user": {
      "displayName": "이희찬",
      "photoUrl": "",
      "userId": "06255163499262544080"
     },
     "user_tz": -540
    },
    "id": "I_YCfUgcxyXU",
    "outputId": "ce78a20a-3dcd-4e74-ea9e-1aaa49a4b090"
   },
   "outputs": [
    {
     "name": "stdout",
     "output_type": "stream",
     "text": [
      "TensorFlow 2.x selected.\n"
     ]
    }
   ],
   "source": [
    "import tensorflow as tf"
   ]
  },
  {
   "cell_type": "code",
   "execution_count": 0,
   "metadata": {
    "colab": {},
    "colab_type": "code",
    "id": "7pqMCFmwxy2R"
   },
   "outputs": [],
   "source": [
    "from tqdm import tqdm\n",
    "import os\n",
    "import numpy as np\n",
    "import pandas as pd\n",
    "from sklearn.model_selection import train_test_split, StratifiedShuffleSplit, StratifiedKFold"
   ]
  },
  {
   "cell_type": "code",
   "execution_count": 5,
   "metadata": {
    "colab": {
     "base_uri": "https://localhost:8080/",
     "height": 52
    },
    "colab_type": "code",
    "executionInfo": {
     "elapsed": 9100,
     "status": "ok",
     "timestamp": 1571988613149,
     "user": {
      "displayName": "이희찬",
      "photoUrl": "",
      "userId": "06255163499262544080"
     },
     "user_tz": -540
    },
    "id": "2OPTE0sExyz4",
    "outputId": "4b7b0aea-ff1d-44b0-e8ef-084c92f8408b"
   },
   "outputs": [
    {
     "name": "stdout",
     "output_type": "stream",
     "text": [
      "Train shape :  (1306122, 3)\n",
      "Test shape :  (375806, 2)\n"
     ]
    }
   ],
   "source": [
    "train_df = pd.read_csv(os.path.join(CSV_PATH, 'train.csv'))\n",
    "test_df = pd.read_csv(os.path.join(CSV_PATH, 'test.csv'))\n",
    "print(\"Train shape : \",train_df.shape)\n",
    "print(\"Test shape : \",test_df.shape)"
   ]
  },
  {
   "cell_type": "code",
   "execution_count": 0,
   "metadata": {
    "colab": {},
    "colab_type": "code",
    "id": "JRGTi4McxyxD"
   },
   "outputs": [],
   "source": [
    "train_X = train_df[\"question_text\"].fillna(\" \")\n",
    "test_X = test_df[\"question_text\"].fillna(\" \")\n",
    "train_y = train_df['target'].values\n",
    "bool_train_labels = train_y != 0\n",
    "text_list = pd.concat([train_X,test_X])"
   ]
  },
  {
   "cell_type": "code",
   "execution_count": 0,
   "metadata": {
    "colab": {},
    "colab_type": "code",
    "id": "PQ3iRF9pya33"
   },
   "outputs": [],
   "source": [
    "def clean_text(x):\n",
    "\n",
    "    x = str(x)\n",
    "    for punct in \"/-\":\n",
    "        x = x.replace(punct, ' ')\n",
    "    for punct in '&':\n",
    "        x = x.replace(punct, f' {punct} ')\n",
    "    for punct in '?!.,\"#$%\\'()*+-/:;<=>@[\\\\]^_`{|}~' + '“”’':\n",
    "        x = x.replace(punct, '')\n",
    "    return x"
   ]
  },
  {
   "cell_type": "code",
   "execution_count": 0,
   "metadata": {
    "colab": {},
    "colab_type": "code",
    "id": "62XDIgRVxyuu"
   },
   "outputs": [],
   "source": [
    "from nltk.stem import PorterStemmer\n",
    "ps = PorterStemmer()\n",
    "from nltk.stem.lancaster import LancasterStemmer\n",
    "lc = LancasterStemmer()\n",
    "from nltk.stem import SnowballStemmer\n",
    "sb = SnowballStemmer(\"english\")\n",
    "\n",
    "text_list = text_list.apply(lambda x: clean_text(x))\n",
    "text_list = text_list.apply(lambda x: ps.stem(x))\n",
    "text_list = text_list.apply(lambda x: lc.stem(x))\n",
    "text_list = text_list.apply(lambda x: sb.stem(x))\n",
    "text_list = list(text_list.apply(lambda x: x.split()).values)"
   ]
  },
  {
   "cell_type": "code",
   "execution_count": 0,
   "metadata": {
    "colab": {},
    "colab_type": "code",
    "id": "57ckhGvwxJa_"
   },
   "outputs": [],
   "source": [
    "def build_vocab(sentences, verbose =  True):\n",
    "    \"\"\"\n",
    "    :param sentences: list of list of words\n",
    "    :return: dictionary of words and their count\n",
    "    \"\"\"\n",
    "    vocab = {}\n",
    "    for sentence in tqdm(sentences, disable = (not verbose)):\n",
    "        for word in sentence:\n",
    "            try:\n",
    "                vocab[word] += 1\n",
    "            except KeyError:\n",
    "                vocab[word] = 1\n",
    "    return vocab"
   ]
  },
  {
   "cell_type": "code",
   "execution_count": 0,
   "metadata": {
    "colab": {},
    "colab_type": "code",
    "id": "6bYzEmVgmMTx"
   },
   "outputs": [],
   "source": [
    "import operator\n",
    "\n",
    "def check_converge(vocab,embedding_index):\n",
    "    iv={}\n",
    "    oov={}\n",
    "    iv_acc=0\n",
    "    oov_acc=0\n",
    "    for word in vocab:\n",
    "        try:\n",
    "            iv[word] = embedding_index[word]\n",
    "            iv_acc += vocab[word]\n",
    "            \n",
    "        except:\n",
    "            oov[word] = vocab[word]\n",
    "            oov_acc += vocab[word]\n",
    "            \n",
    "    print(\"{:.2%}\".format((len(iv)/len(vocab))))\n",
    "    print(\"{:.2%}\".format(iv_acc/(iv_acc+oov_acc)))\n",
    "\n",
    "    \n",
    "    sorted_x = sorted(oov.items(), key=operator.itemgetter(1))[::-1]\n",
    "    return sorted_x"
   ]
  },
  {
   "cell_type": "code",
   "execution_count": 11,
   "metadata": {
    "colab": {
     "base_uri": "https://localhost:8080/",
     "height": 34
    },
    "colab_type": "code",
    "executionInfo": {
     "elapsed": 99447,
     "status": "ok",
     "timestamp": 1571988741214,
     "user": {
      "displayName": "이희찬",
      "photoUrl": "",
      "userId": "06255163499262544080"
     },
     "user_tz": -540
    },
    "id": "HTt3sBSVytWN",
    "outputId": "7f47d96f-55bf-4372-fe42-cb1a34c49034"
   },
   "outputs": [
    {
     "name": "stderr",
     "output_type": "stream",
     "text": [
      "100%|██████████| 1681928/1681928 [00:07<00:00, 230213.13it/s]\n"
     ]
    }
   ],
   "source": [
    "vocab = build_vocab(text_list)"
   ]
  },
  {
   "cell_type": "code",
   "execution_count": 0,
   "metadata": {
    "colab": {},
    "colab_type": "code",
    "id": "bkqyE37p1VBJ"
   },
   "outputs": [],
   "source": [
    "from six.moves.urllib.request import urlretrieve\n",
    "from progressbar import Bar, ETA, FileTransferSpeed, ProgressBar, Percentage, RotatingMarker"
   ]
  },
  {
   "cell_type": "code",
   "execution_count": 13,
   "metadata": {
    "colab": {
     "base_uri": "https://localhost:8080/",
     "height": 34
    },
    "colab_type": "code",
    "executionInfo": {
     "elapsed": 1018144,
     "status": "ok",
     "timestamp": 1571989851080,
     "user": {
      "displayName": "이희찬",
      "photoUrl": "",
      "userId": "06255163499262544080"
     },
     "user_tz": -540
    },
    "id": "v3mvmpou1U-q",
    "outputId": "0cc4ecef-cedd-4a1d-a042-486fbe176f72"
   },
   "outputs": [
    {
     "name": "stderr",
     "output_type": "stream",
     "text": [
      "Test: 100% ||                                      | Time:  0:16:56   2.0 MiB/s\n"
     ]
    }
   ],
   "source": [
    "#This code snippet is inspired by https://github.com/chakki-works/chakin\n",
    "\n",
    "\n",
    "ROOT_DIR = './'\n",
    "url = 'http://nlp.stanford.edu/data/glove.840B.300d.zip'\n",
    "file_name = url.split('/')[-1]\n",
    "save_path = os.path.join(ROOT_DIR, file_name)\n",
    "\n",
    "widgets = ['Test: ', Percentage(), ' ', Bar(marker=RotatingMarker()), ' ', ETA(), ' ', FileTransferSpeed()]\n",
    "pbar = ProgressBar(widgets=widgets)\n",
    "\n",
    "def dlProgress(count, blockSize, totalSize):\n",
    "    if pbar.max_value is None:\n",
    "        pbar.max_value = totalSize\n",
    "        pbar.start()\n",
    "\n",
    "    pbar.update(min(count * blockSize, totalSize))\n",
    "\n",
    "path, _ = urlretrieve(url, save_path, reporthook=dlProgress)\n",
    "pbar.finish()"
   ]
  },
  {
   "cell_type": "code",
   "execution_count": 14,
   "metadata": {
    "colab": {
     "base_uri": "https://localhost:8080/",
     "height": 52
    },
    "colab_type": "code",
    "executionInfo": {
     "elapsed": 150636,
     "status": "ok",
     "timestamp": 1571990513776,
     "user": {
      "displayName": "이희찬",
      "photoUrl": "",
      "userId": "06255163499262544080"
     },
     "user_tz": -540
    },
    "id": "JAWsl9Uc1i3f",
    "outputId": "24bab373-b9fb-4894-8752-41a564e1b6c2"
   },
   "outputs": [
    {
     "name": "stdout",
     "output_type": "stream",
     "text": [
      "Archive:  ./glove.840B.300d.zip\n",
      "  inflating: glove.840B.300d.txt     \n"
     ]
    }
   ],
   "source": [
    "!unzip ./glove.840B.300d.zip"
   ]
  },
  {
   "cell_type": "code",
   "execution_count": 0,
   "metadata": {
    "colab": {},
    "colab_type": "code",
    "id": "8ZivtstcytQz"
   },
   "outputs": [],
   "source": [
    "EMBEDDING_FILE = './glove.840B.300d.txt' #fill in the file path of pre-trained embedding file you want to check oov test of\n",
    "def get_coefs(word,*arr): return word, np.asarray(arr, dtype='float32')\n",
    "embeddings_index = dict(get_coefs(*o.split(\" \")) for o in open(EMBEDDING_FILE))"
   ]
  },
  {
   "cell_type": "code",
   "execution_count": 19,
   "metadata": {
    "colab": {
     "base_uri": "https://localhost:8080/",
     "height": 52
    },
    "colab_type": "code",
    "executionInfo": {
     "elapsed": 1322,
     "status": "ok",
     "timestamp": 1571990824433,
     "user": {
      "displayName": "이희찬",
      "photoUrl": "",
      "userId": "06255163499262544080"
     },
     "user_tz": -540
    },
    "id": "HTFT57T8ytUH",
    "outputId": "dd0035f1-3346-42ef-c10b-0bbadb576808"
   },
   "outputs": [
    {
     "name": "stdout",
     "output_type": "stream",
     "text": [
      "53.50%\n",
      "98.78%\n"
     ]
    }
   ],
   "source": [
    "oov = check_converge(vocab, embeddings_index)"
   ]
  },
  {
   "cell_type": "code",
   "execution_count": 0,
   "metadata": {
    "colab": {},
    "colab_type": "code",
    "id": "c7Uh_Bc17XFl"
   },
   "outputs": [],
   "source": []
  }
 ],
 "metadata": {
  "colab": {
   "name": "Kaggle - OOV test.ipynb",
   "provenance": []
  },
  "kernelspec": {
   "display_name": "Python 3",
   "language": "python",
   "name": "python3"
  },
  "language_info": {
   "codemirror_mode": {
    "name": "ipython",
    "version": 3
   },
   "file_extension": ".py",
   "mimetype": "text/x-python",
   "name": "python",
   "nbconvert_exporter": "python",
   "pygments_lexer": "ipython3",
   "version": "3.6.5"
  }
 },
 "nbformat": 4,
 "nbformat_minor": 1
}
